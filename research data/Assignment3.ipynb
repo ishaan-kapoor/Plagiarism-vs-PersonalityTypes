{
 "cells": [
  {
   "cell_type": "code",
   "execution_count": 1,
   "metadata": {},
   "outputs": [],
   "source": [
    "import pandas"
   ]
  },
  {
   "cell_type": "code",
   "execution_count": 2,
   "metadata": {},
   "outputs": [],
   "source": [
    "file = pandas.read_excel(\"assignment3.xlsx\")\n",
    "data3 = {}\n",
    "for email, text in file.values:\n",
    "    data3[email] = text\n",
    "    # data3[email.split('@')[0][1:]] = text"
   ]
  },
  {
   "cell_type": "code",
   "execution_count": 3,
   "metadata": {},
   "outputs": [
    {
     "name": "stdout",
     "output_type": "stream",
     "text": [
      "['20212826', '20212062', '20212553', '20201784', '20230034', '20201703', '20212595', '20212556', '20201727', '20212886', '20201142', '20200659', '20201839', '20201857', '20212499', '20200106', '20231002', '20200971', '20210007', '20201728', '20201710', '20212607', '20212471', '20201373', '20211758', '20211177', '20201515', '20200131', '20200152', '20212720', '20201736', '20211465', '20212628', '20213055', '20200568', '20212632', '20210011', '20201462', '20210001', '20210012', '20210004', '20212841', '20210533', '20212738', '20201464', '20201228', '20201717', '20211159', '20213041', '20201691', '20212630', '20212048', '20201733', '20200962', '20201159', '20201686', '20212054', '20201725', '20201392', '20212525', '20201715', '20201718', '20201699', '20212740', '20201700', '20201711', '20201260', '20201263', '20201716', '20201141', '20201262', '20211291', '20200146', '20201832', '20201701', '20201085', '20211294', '20200001', '20201203', '20201157', '20201370', '20212093', '20212836', '20201179', '20212664', '20201960', '20201470', '20202122', '20212602', '20201764', '20201430', '20212728', '20200519', '20212619', '20201794', '20212431', '20212914', '20201705', '20201982', '20212596', '20201896', '20201036', '20220050', '20202102', '20200965', '20230060']\n"
     ]
    }
   ],
   "source": [
    "print(list(data3.keys()))"
   ]
  },
  {
   "cell_type": "code",
   "execution_count": 4,
   "metadata": {},
   "outputs": [],
   "source": [
    "from selenium.webdriver import Edge\n",
    "from selenium.webdriver.common.by import By\n",
    "# from selenium.common.exceptions import ElementClickInterceptedException, TimeoutException\n",
    "from selenium.webdriver.edge.service import Service\n",
    "from selenium.webdriver.support.wait import WebDriverWait\n",
    "from selenium.webdriver.support import expected_conditions as EC"
   ]
  },
  {
   "cell_type": "code",
   "execution_count": 5,
   "metadata": {},
   "outputs": [],
   "source": [
    "DRIVER = Edge(service=Service(r\"msedgedriver.exe\"))\n",
    "DRIVER.get(r\"https://www.zerogpt.com/\")"
   ]
  },
  {
   "cell_type": "code",
   "execution_count": null,
   "metadata": {},
   "outputs": [],
   "source": [
    "percentages = {}"
   ]
  },
  {
   "cell_type": "code",
   "execution_count": 14,
   "metadata": {},
   "outputs": [
    {
     "name": "stdout",
     "output_type": "stream",
     "text": [
      "106\n"
     ]
    }
   ],
   "source": [
    "for email, text in data3.items():\n",
    "    if percentages.get(email, None) is not None: continue\n",
    "    textArea = WebDriverWait(driver=DRIVER, timeout=5).until(EC.element_to_be_clickable((By.ID, \"textArea\")))\n",
    "    textArea.clear()\n",
    "    textArea.send_keys(text)\n",
    "    WebDriverWait(driver=DRIVER, timeout=5).until(EC.element_to_be_clickable((By.CLASS_NAME, \"scoreButton\"))).click()\n",
    "    percentage = WebDriverWait(driver=DRIVER, timeout=5).until(EC.visibility_of_element_located((By.CLASS_NAME, \"percentage-div\")))\n",
    "    percentages[email] = percentage.text.split()[0].rstrip('%')"
   ]
  },
  {
   "cell_type": "code",
   "execution_count": 15,
   "metadata": {},
   "outputs": [
    {
     "name": "stdout",
     "output_type": "stream",
     "text": [
      "106\n"
     ]
    }
   ],
   "source": [
    "print(len(percentages))"
   ]
  },
  {
   "cell_type": "code",
   "execution_count": 16,
   "metadata": {},
   "outputs": [],
   "source": [
    "from csv import writer\n",
    "with open('assignment3_percentage.csv', 'w') as file:\n",
    "    csv_writer = writer(file, lineterminator='\\n')\n",
    "    csv_writer.writerow(['Email', 'Assignment3 %'])\n",
    "    for email, percentage in percentages.items():\n",
    "        csv_writer.writerow([email, percentage])\n"
   ]
  },
  {
   "cell_type": "code",
   "execution_count": 9,
   "metadata": {},
   "outputs": [],
   "source": [
    "textArea = WebDriverWait(driver=DRIVER, timeout=5).until(EC.element_to_be_clickable((By.ID, \"textArea\")))\n",
    "textArea.clear()\n",
    "textArea.send_keys(list(data3.values())[1])"
   ]
  },
  {
   "cell_type": "code",
   "execution_count": 10,
   "metadata": {},
   "outputs": [],
   "source": [
    "WebDriverWait(driver=DRIVER, timeout=5).until(EC.element_to_be_clickable((By.CLASS_NAME, \"scoreButton\"))).click()"
   ]
  },
  {
   "cell_type": "code",
   "execution_count": 11,
   "metadata": {},
   "outputs": [
    {
     "name": "stdout",
     "output_type": "stream",
     "text": [
      "85.94\n"
     ]
    }
   ],
   "source": [
    "percentage = WebDriverWait(driver=DRIVER, timeout=5).until(EC.visibility_of_element_located((By.CLASS_NAME, \"percentage-div\")))\n",
    "print(percentage.text.split()[0].rstrip('%'))"
   ]
  }
 ],
 "metadata": {
  "kernelspec": {
   "display_name": "Python 3",
   "language": "python",
   "name": "python3"
  },
  "language_info": {
   "codemirror_mode": {
    "name": "ipython",
    "version": 3
   },
   "file_extension": ".py",
   "mimetype": "text/x-python",
   "name": "python",
   "nbconvert_exporter": "python",
   "pygments_lexer": "ipython3",
   "version": "3.10.0"
  }
 },
 "nbformat": 4,
 "nbformat_minor": 2
}
