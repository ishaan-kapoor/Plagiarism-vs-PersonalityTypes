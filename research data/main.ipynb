{
 "cells": [
  {
   "cell_type": "code",
   "execution_count": 4,
   "metadata": {},
   "outputs": [
    {
     "name": "stdout",
     "output_type": "stream",
     "text": [
      "108\n"
     ]
    }
   ],
   "source": [
    "students = sorted(['2020A7PS0001G', '2020A7PS1430G', '2020A7PS1718G', '2021A7PS2596G', '2021A7PS2054G', '2021A7PS2048G', '2021AAPS1159G', '2020A7PS0971G', '2021A7PS2632G', '2020A7PS1715G', '2020A3PS1832G', '2020B3A71857G', '2021A7PS2630G', '2021A7PS2841G', '2020A7PS0152G', '2021A7PS2062G', '2021AAPS1291G', '2020B3A71794G', '2020A3PS1764G', '2020B4A71263G', '2021A7PS0001G', '2021A7PS2619G', '2021A7PS2720G', '2021A7PS2093G', '2021A7PS2553G', '2020A7PS1716G', '2020A7PS1373G', '2020A7PS1728G', '2021A7PS2525G', '2020A7PS1725G', '2021A7PS2664G', '2021A7PS3055G', '2021A7PS2602G', '2021A7PS2628G', '2021A7PS2740G', '2020A7PS1736G', '2021A7PS0011G', '2021A7PS2595G', '2021AAPS2499G', '2021B4A72431G', '2020B3A71784G', '2020B1A72102G', '2021A7PS2607G', '2020B1A71982G', '2020B3A70568G', '2021A7PS1294G', '2020A7PS1703G', '2020A7PS1733G', '2020B1A71960G', '2020B3A71515G', '2020B3A71159G', '2021A7PS2471G', '2021A7PS2738G', '2021A7PS2836G', '2021AAPS2556G', '2020B3A71142G', '2020B3A71260G', '2021A7PS2728G', '2021B5PS1177G', '2020A7PS1686G', '2020B3A70659G', '2020A7PS1691G', '2020A7PS1699G', '2020A7PS1370G', '2020A7PS1711G', '2020B4A71203G', '2021A7PS0533G', '2020B3A71462G', '2021A8PS2914G', '2020B3A71085G', '2020B3A71262G', '2020A7PS1392G', '2021A7PS1758G', '2020B3A71141G', '2021A7PS0007G', '2020B3A71470G', '2021A7PS0004G', '2020A3PS0519G', '2020B3A71464G', '2020B5A71839G', '2021A7PS2670G', '2020AAPS1036G', '2020B5A71896G', '2020A7PS0131G', '2020A7PS1228G', '2020A7PS1710G', '2021A7PS0012G', '2020A7PS1727G', '2023H1030034G', '2020A7PS1700G', '2021A4PS2886G', '2020A7PS0962G', '2020A7PS1705G', '2020A7PS0106G', '2022H1030050G', '2020A7PS1701G', '2020A7PS0146G', '2020B5A71157G', '2021A7PS3041G', '2020A7PS0965G', '2021A4PS2826G', '2023H1030060G', '2020A7PS1717G', '2021A7PS1465G', '2020B3A71102G', '2020B4PS1179G', '2020B1A42122G', '2023I101002G'])\n",
    "print(len(students))"
   ]
  },
  {
   "cell_type": "code",
   "execution_count": 5,
   "metadata": {},
   "outputs": [],
   "source": [
    "from csv import reader"
   ]
  },
  {
   "cell_type": "code",
   "execution_count": 6,
   "metadata": {},
   "outputs": [
    {
     "name": "stdout",
     "output_type": "stream",
     "text": [
      "108\n"
     ]
    }
   ],
   "source": [
    "with open('email-ID.csv', 'r') as file:\n",
    "    csv_reader = reader(file)\n",
    "    header = csv_reader.__next__()  # email, roll\n",
    "    email = {}\n",
    "    for line in csv_reader:\n",
    "        email[line[0].split('@')[0][1:].lower()] = line[1]\n",
    "print(len(email))"
   ]
  },
  {
   "cell_type": "code",
   "execution_count": 7,
   "metadata": {},
   "outputs": [
    {
     "name": "stdout",
     "output_type": "stream",
     "text": [
      "81\n"
     ]
    }
   ],
   "source": [
    "with open('assignment1.csv', 'r') as file:\n",
    "    csv_reader = reader(file)\n",
    "    header = csv_reader.__next__()  # roll, prog1, percent1, roll2, prog2, percent2, line_matched\n",
    "    data1 = {}\n",
    "    for line in csv_reader:\n",
    "        data1[line[0]] = max(data1.get(line[0], (0,0)), (int(line[2]), int(line[6])))\n",
    "        data1[line[3]] = max(data1.get(line[3], (0,0)), (int(line[5]), int(line[6])))\n",
    "print(len(data1))"
   ]
  },
  {
   "cell_type": "code",
   "execution_count": 8,
   "metadata": {},
   "outputs": [
    {
     "name": "stdout",
     "output_type": "stream",
     "text": [
      "89\n"
     ]
    }
   ],
   "source": [
    "with open('assignment2.csv', 'r') as file:\n",
    "    csv_reader = reader(file)\n",
    "    header = csv_reader.__next__()  # roll, percent1, roll2, percent2, line_matched\n",
    "    data2 = {}\n",
    "    for line in csv_reader:\n",
    "        data2[line[0]] = max(data2.get(line[0], (0,0)), (int(line[1]), int(line[4])))\n",
    "        data2[line[2]] = max(data2.get(line[2], (0,0)), (int(line[3]), int(line[4])))\n",
    "print(len(data2))"
   ]
  },
  {
   "cell_type": "code",
   "execution_count": 9,
   "metadata": {},
   "outputs": [],
   "source": [
    "with open('assignment3_percentage.csv', 'r') as file:\n",
    "    csv_reader = reader(file)\n",
    "    header = csv_reader.__next__()  # roll, percent, cg\n",
    "    data3 = {}\n",
    "    for line in csv_reader:\n",
    "        data3[email[line[0]]] = line[1]\n",
    "print(len(data3))"
   ]
  },
  {
   "cell_type": "code",
   "execution_count": 10,
   "metadata": {},
   "outputs": [
    {
     "name": "stdout",
     "output_type": "stream",
     "text": [
      "107\n"
     ]
    }
   ],
   "source": [
    "\n",
    "with open('CG.csv', 'r') as file:\n",
    "    csv_reader = reader(file)\n",
    "    header = csv_reader.__next__()  # roll, CG\n",
    "    cg_data = {}\n",
    "    for line in csv_reader:\n",
    "        cg_data[line[0]] = line[1]\n",
    "print(len(cg_data))"
   ]
  },
  {
   "cell_type": "code",
   "execution_count": 11,
   "metadata": {},
   "outputs": [
    {
     "name": "stdout",
     "output_type": "stream",
     "text": [
      "105\n"
     ]
    }
   ],
   "source": [
    "\n",
    "with open('PersonalityTypes.csv', 'r') as file:\n",
    "    csv_reader = reader(file)\n",
    "    header = csv_reader.__next__()  # roll, CG\n",
    "    persona_data = {}\n",
    "    for line in csv_reader:\n",
    "        persona_data[line[0]] = line[1:]\n",
    "print(len(persona_data))"
   ]
  },
  {
   "cell_type": "code",
   "execution_count": 14,
   "metadata": {},
   "outputs": [],
   "source": [
    "from csv import writer\n",
    "with open('final.csv', 'w') as file:\n",
    "    csv_writer = writer(file, lineterminator='\\n')\n",
    "    csv_writer.writerow(['Roll', 'Assignment1 %', 'Assignment1 #', 'Assignment2 %', 'Assignment2 #', 'Assignment3 (ZeroGPT)', 'CG', 'Age', 'Gender', 'Neuroticism', 'Extraversion', 'Openness', 'Agreeableness', 'Conscientiousness'])\n",
    "    for roll in students:\n",
    "        if persona := persona_data.get(roll, None):\n",
    "            csv_writer.writerow([roll, *data1.get(roll,(0,0)), *data2.get(roll,(0,0)), data3.get(roll, 0), cg_data.get(roll, 0), *persona])"
   ]
  }
 ],
 "metadata": {
  "kernelspec": {
   "display_name": "Python 3",
   "language": "python",
   "name": "python3"
  },
  "language_info": {
   "codemirror_mode": {
    "name": "ipython",
    "version": 3
   },
   "file_extension": ".py",
   "mimetype": "text/x-python",
   "name": "python",
   "nbconvert_exporter": "python",
   "pygments_lexer": "ipython3",
   "version": "3.10.0"
  }
 },
 "nbformat": 4,
 "nbformat_minor": 2
}
